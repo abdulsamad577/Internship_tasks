{
 "cells": [
  {
   "cell_type": "markdown",
   "id": "2096776d",
   "metadata": {},
   "source": [
    "# Task 2: Credit Risk Prediction"
   ]
  },
  {
   "cell_type": "markdown",
   "id": "2a462cc9",
   "metadata": {},
   "source": [
    "---\n",
    "\n",
    "### 👨‍💻 **Author: Abdul Samad**\n",
    "\n",
    "- 🔗 **LinkedIn:**  \n",
    "  [https://www.linkedin.com/in/abdulsamad577/](https://www.linkedin.com/in/abdulsamad577/)\n",
    "\n",
    "- 🧠 **Kaggle Profile:**  \n",
    "  [https://www.kaggle.com/samad0015](https://www.kaggle.com/samad0015)\n",
    "\n",
    "- 💻 **GitHub Repository:**  \n",
    "  [https://github.com/abdulsamad577/Internship_tasks](https://github.com/abdulsamad577/Internship_tasks)\n",
    "\n",
    "---\n"
   ]
  },
  {
   "cell_type": "markdown",
   "id": "ca331660",
   "metadata": {},
   "source": [
    "## About the Dataset\n",
    "\n",
    "### Loan Prediction Problem Dataset\n",
    "\n",
    "This dataset is sourced from a real-life loan prediction problem. It contains information about individuals applying for home loans, along with whether their loan was approved or not. The goal is to build a classification model that can predict whether a loan will be approved based on the applicant’s profile.\n",
    "\n",
    "---\n",
    "\n",
    "### Features Included:\n",
    "\n",
    "- **Loan_ID**: Unique identifier for each loan application  \n",
    "- **Gender**: Gender of the applicant (Male/Female)  \n",
    "- **Married**: Marital status of the applicant  \n",
    "- **Dependents**: Number of dependents the applicant has  \n",
    "- **Education**: Education level (Graduate/Not Graduate)  \n",
    "- **Self_Employed**: Whether the applicant is self-employed  \n",
    "- **ApplicantIncome**: Applicant’s monthly income  \n",
    "- **CoapplicantIncome**: Income of the co-applicant  \n",
    "- **LoanAmount**: Loan amount applied for  \n",
    "- **Loan_Amount_Term**: Term of loan in months  \n",
    "- **Credit_History**: Whether the applicant has a credit history (1 = Yes, 0 = No)  \n",
    "- **Property_Area**: Urban/Rural/Semiurban classification of the property  \n",
    "- **Loan_Status**: **Target variable** – Whether loan was approved (Y = Yes, N = No)  \n",
    "\n",
    "---\n",
    "\n",
    "### Objective:\n",
    "\n",
    "- Predict whether a loan applicant is likely to default on a loan.\n",
    "---\n",
    "\n",
    "### Use Cases:\n",
    "\n",
    "- **Loan Approval Prediction**: Train machine learning models to predict loan approval.  \n",
    "- **Credit Risk Assessment**: Analyze which applicant features most influence loan decisions.  \n",
    "- **Data Cleaning Practice**: Handle missing values and encode categorical variables.  \n"
   ]
  },
  {
   "cell_type": "markdown",
   "id": "a31a3e12",
   "metadata": {},
   "source": [
    "## Import Libraries"
   ]
  },
  {
   "cell_type": "code",
   "execution_count": 1,
   "id": "efa7e74e",
   "metadata": {},
   "outputs": [],
   "source": [
    "import os\n",
    "import kagglehub\n",
    "import pandas as pd\n",
    "import numpy as np\n",
    "import seaborn as sns\n",
    "import matplotlib.pyplot as plt\n",
    "import plotly.express as px\n",
    "from sklearn.impute import SimpleImputer\n",
    "from sklearn.feature_selection import SelectKBest, chi2\n",
    "from sklearn.preprocessing import LabelEncoder\n",
    "from sklearn.model_selection import train_test_split\n",
    "from sklearn.ensemble import RandomForestClassifier, RandomForestRegressor\n",
    "from sklearn.metrics import accuracy_score, confusion_matrix\n",
    "from sklearn.metrics import accuracy_score, mean_squared_error"
   ]
  },
  {
   "cell_type": "code",
   "execution_count": 2,
   "id": "d735973e",
   "metadata": {},
   "outputs": [
    {
     "name": "stdout",
     "output_type": "stream",
     "text": [
      "Path to dataset files: C:\\Users\\Sami\\.cache\\kagglehub\\datasets\\altruistdelhite04\\loan-prediction-problem-dataset\\versions\\1\n"
     ]
    }
   ],
   "source": [
    "import kagglehub\n",
    "# Download latest version\n",
    "path = kagglehub.dataset_download(\"altruistdelhite04/loan-prediction-problem-dataset\")\n",
    "\n",
    "print(\"Path to dataset files:\", path)"
   ]
  },
  {
   "cell_type": "code",
   "execution_count": 3,
   "id": "8792d297",
   "metadata": {},
   "outputs": [
    {
     "name": "stdout",
     "output_type": "stream",
     "text": [
      "Files in dataset folder:\n",
      "['test_Y3wMUE5_7gLdaTN.csv', 'train_u6lujuX_CVtuZ9i.csv']\n"
     ]
    }
   ],
   "source": [
    "import os\n",
    "# List all files in the dataset directory\n",
    "print(\"Files in dataset folder:\")\n",
    "print(os.listdir(path))\n"
   ]
  },
  {
   "cell_type": "markdown",
   "id": "fc61a231",
   "metadata": {},
   "source": [
    "## Load and Inspect Data"
   ]
  },
  {
   "cell_type": "code",
   "execution_count": 4,
   "id": "fe329f6e",
   "metadata": {},
   "outputs": [],
   "source": [
    "# Load training and test datasets\n",
    "train_df=pd.read_csv(os.path.join(path,'train_u6lujuX_CVtuZ9i.csv' ))\n",
    "test_df=pd.read_csv(os.path.join(path,'test_Y3wMUE5_7gLdaTN.csv' ))\n"
   ]
  },
  {
   "cell_type": "code",
   "execution_count": 5,
   "id": "4f36cd2c",
   "metadata": {},
   "outputs": [
    {
     "data": {
      "text/html": [
       "<div>\n",
       "<style scoped>\n",
       "    .dataframe tbody tr th:only-of-type {\n",
       "        vertical-align: middle;\n",
       "    }\n",
       "\n",
       "    .dataframe tbody tr th {\n",
       "        vertical-align: top;\n",
       "    }\n",
       "\n",
       "    .dataframe thead th {\n",
       "        text-align: right;\n",
       "    }\n",
       "</style>\n",
       "<table border=\"1\" class=\"dataframe\">\n",
       "  <thead>\n",
       "    <tr style=\"text-align: right;\">\n",
       "      <th></th>\n",
       "      <th>Loan_ID</th>\n",
       "      <th>Gender</th>\n",
       "      <th>Married</th>\n",
       "      <th>Dependents</th>\n",
       "      <th>Education</th>\n",
       "      <th>Self_Employed</th>\n",
       "      <th>ApplicantIncome</th>\n",
       "      <th>CoapplicantIncome</th>\n",
       "      <th>LoanAmount</th>\n",
       "      <th>Loan_Amount_Term</th>\n",
       "      <th>Credit_History</th>\n",
       "      <th>Property_Area</th>\n",
       "      <th>Loan_Status</th>\n",
       "    </tr>\n",
       "  </thead>\n",
       "  <tbody>\n",
       "    <tr>\n",
       "      <th>0</th>\n",
       "      <td>LP001002</td>\n",
       "      <td>Male</td>\n",
       "      <td>No</td>\n",
       "      <td>0</td>\n",
       "      <td>Graduate</td>\n",
       "      <td>No</td>\n",
       "      <td>5849</td>\n",
       "      <td>0.0</td>\n",
       "      <td>NaN</td>\n",
       "      <td>360.0</td>\n",
       "      <td>1.0</td>\n",
       "      <td>Urban</td>\n",
       "      <td>Y</td>\n",
       "    </tr>\n",
       "    <tr>\n",
       "      <th>1</th>\n",
       "      <td>LP001003</td>\n",
       "      <td>Male</td>\n",
       "      <td>Yes</td>\n",
       "      <td>1</td>\n",
       "      <td>Graduate</td>\n",
       "      <td>No</td>\n",
       "      <td>4583</td>\n",
       "      <td>1508.0</td>\n",
       "      <td>128.0</td>\n",
       "      <td>360.0</td>\n",
       "      <td>1.0</td>\n",
       "      <td>Rural</td>\n",
       "      <td>N</td>\n",
       "    </tr>\n",
       "    <tr>\n",
       "      <th>2</th>\n",
       "      <td>LP001005</td>\n",
       "      <td>Male</td>\n",
       "      <td>Yes</td>\n",
       "      <td>0</td>\n",
       "      <td>Graduate</td>\n",
       "      <td>Yes</td>\n",
       "      <td>3000</td>\n",
       "      <td>0.0</td>\n",
       "      <td>66.0</td>\n",
       "      <td>360.0</td>\n",
       "      <td>1.0</td>\n",
       "      <td>Urban</td>\n",
       "      <td>Y</td>\n",
       "    </tr>\n",
       "    <tr>\n",
       "      <th>3</th>\n",
       "      <td>LP001006</td>\n",
       "      <td>Male</td>\n",
       "      <td>Yes</td>\n",
       "      <td>0</td>\n",
       "      <td>Not Graduate</td>\n",
       "      <td>No</td>\n",
       "      <td>2583</td>\n",
       "      <td>2358.0</td>\n",
       "      <td>120.0</td>\n",
       "      <td>360.0</td>\n",
       "      <td>1.0</td>\n",
       "      <td>Urban</td>\n",
       "      <td>Y</td>\n",
       "    </tr>\n",
       "    <tr>\n",
       "      <th>4</th>\n",
       "      <td>LP001008</td>\n",
       "      <td>Male</td>\n",
       "      <td>No</td>\n",
       "      <td>0</td>\n",
       "      <td>Graduate</td>\n",
       "      <td>No</td>\n",
       "      <td>6000</td>\n",
       "      <td>0.0</td>\n",
       "      <td>141.0</td>\n",
       "      <td>360.0</td>\n",
       "      <td>1.0</td>\n",
       "      <td>Urban</td>\n",
       "      <td>Y</td>\n",
       "    </tr>\n",
       "  </tbody>\n",
       "</table>\n",
       "</div>"
      ],
      "text/plain": [
       "    Loan_ID Gender Married Dependents     Education Self_Employed  \\\n",
       "0  LP001002   Male      No          0      Graduate            No   \n",
       "1  LP001003   Male     Yes          1      Graduate            No   \n",
       "2  LP001005   Male     Yes          0      Graduate           Yes   \n",
       "3  LP001006   Male     Yes          0  Not Graduate            No   \n",
       "4  LP001008   Male      No          0      Graduate            No   \n",
       "\n",
       "   ApplicantIncome  CoapplicantIncome  LoanAmount  Loan_Amount_Term  \\\n",
       "0             5849                0.0         NaN             360.0   \n",
       "1             4583             1508.0       128.0             360.0   \n",
       "2             3000                0.0        66.0             360.0   \n",
       "3             2583             2358.0       120.0             360.0   \n",
       "4             6000                0.0       141.0             360.0   \n",
       "\n",
       "   Credit_History Property_Area Loan_Status  \n",
       "0             1.0         Urban           Y  \n",
       "1             1.0         Rural           N  \n",
       "2             1.0         Urban           Y  \n",
       "3             1.0         Urban           Y  \n",
       "4             1.0         Urban           Y  "
      ]
     },
     "execution_count": 5,
     "metadata": {},
     "output_type": "execute_result"
    }
   ],
   "source": [
    "train_df.head()"
   ]
  },
  {
   "cell_type": "code",
   "execution_count": 6,
   "id": "7ac45880",
   "metadata": {},
   "outputs": [
    {
     "data": {
      "text/plain": [
       "(614, 13)"
      ]
     },
     "execution_count": 6,
     "metadata": {},
     "output_type": "execute_result"
    }
   ],
   "source": [
    "train_df.shape"
   ]
  },
  {
   "cell_type": "code",
   "execution_count": 7,
   "id": "1e5e5150",
   "metadata": {},
   "outputs": [
    {
     "name": "stdout",
     "output_type": "stream",
     "text": [
      "<class 'pandas.core.frame.DataFrame'>\n",
      "RangeIndex: 614 entries, 0 to 613\n",
      "Data columns (total 13 columns):\n",
      " #   Column             Non-Null Count  Dtype  \n",
      "---  ------             --------------  -----  \n",
      " 0   Loan_ID            614 non-null    object \n",
      " 1   Gender             601 non-null    object \n",
      " 2   Married            611 non-null    object \n",
      " 3   Dependents         599 non-null    object \n",
      " 4   Education          614 non-null    object \n",
      " 5   Self_Employed      582 non-null    object \n",
      " 6   ApplicantIncome    614 non-null    int64  \n",
      " 7   CoapplicantIncome  614 non-null    float64\n",
      " 8   LoanAmount         592 non-null    float64\n",
      " 9   Loan_Amount_Term   600 non-null    float64\n",
      " 10  Credit_History     564 non-null    float64\n",
      " 11  Property_Area      614 non-null    object \n",
      " 12  Loan_Status        614 non-null    object \n",
      "dtypes: float64(4), int64(1), object(8)\n",
      "memory usage: 62.5+ KB\n"
     ]
    }
   ],
   "source": [
    "train_df.info()"
   ]
  },
  {
   "cell_type": "code",
   "execution_count": 8,
   "id": "44464f86",
   "metadata": {},
   "outputs": [
    {
     "data": {
      "text/html": [
       "<div>\n",
       "<style scoped>\n",
       "    .dataframe tbody tr th:only-of-type {\n",
       "        vertical-align: middle;\n",
       "    }\n",
       "\n",
       "    .dataframe tbody tr th {\n",
       "        vertical-align: top;\n",
       "    }\n",
       "\n",
       "    .dataframe thead th {\n",
       "        text-align: right;\n",
       "    }\n",
       "</style>\n",
       "<table border=\"1\" class=\"dataframe\">\n",
       "  <thead>\n",
       "    <tr style=\"text-align: right;\">\n",
       "      <th></th>\n",
       "      <th>ApplicantIncome</th>\n",
       "      <th>CoapplicantIncome</th>\n",
       "      <th>LoanAmount</th>\n",
       "      <th>Loan_Amount_Term</th>\n",
       "      <th>Credit_History</th>\n",
       "    </tr>\n",
       "  </thead>\n",
       "  <tbody>\n",
       "    <tr>\n",
       "      <th>count</th>\n",
       "      <td>614.000000</td>\n",
       "      <td>614.000000</td>\n",
       "      <td>592.000000</td>\n",
       "      <td>600.00000</td>\n",
       "      <td>564.000000</td>\n",
       "    </tr>\n",
       "    <tr>\n",
       "      <th>mean</th>\n",
       "      <td>5403.459283</td>\n",
       "      <td>1621.245798</td>\n",
       "      <td>146.412162</td>\n",
       "      <td>342.00000</td>\n",
       "      <td>0.842199</td>\n",
       "    </tr>\n",
       "    <tr>\n",
       "      <th>std</th>\n",
       "      <td>6109.041673</td>\n",
       "      <td>2926.248369</td>\n",
       "      <td>85.587325</td>\n",
       "      <td>65.12041</td>\n",
       "      <td>0.364878</td>\n",
       "    </tr>\n",
       "    <tr>\n",
       "      <th>min</th>\n",
       "      <td>150.000000</td>\n",
       "      <td>0.000000</td>\n",
       "      <td>9.000000</td>\n",
       "      <td>12.00000</td>\n",
       "      <td>0.000000</td>\n",
       "    </tr>\n",
       "    <tr>\n",
       "      <th>25%</th>\n",
       "      <td>2877.500000</td>\n",
       "      <td>0.000000</td>\n",
       "      <td>100.000000</td>\n",
       "      <td>360.00000</td>\n",
       "      <td>1.000000</td>\n",
       "    </tr>\n",
       "    <tr>\n",
       "      <th>50%</th>\n",
       "      <td>3812.500000</td>\n",
       "      <td>1188.500000</td>\n",
       "      <td>128.000000</td>\n",
       "      <td>360.00000</td>\n",
       "      <td>1.000000</td>\n",
       "    </tr>\n",
       "    <tr>\n",
       "      <th>75%</th>\n",
       "      <td>5795.000000</td>\n",
       "      <td>2297.250000</td>\n",
       "      <td>168.000000</td>\n",
       "      <td>360.00000</td>\n",
       "      <td>1.000000</td>\n",
       "    </tr>\n",
       "    <tr>\n",
       "      <th>max</th>\n",
       "      <td>81000.000000</td>\n",
       "      <td>41667.000000</td>\n",
       "      <td>700.000000</td>\n",
       "      <td>480.00000</td>\n",
       "      <td>1.000000</td>\n",
       "    </tr>\n",
       "  </tbody>\n",
       "</table>\n",
       "</div>"
      ],
      "text/plain": [
       "       ApplicantIncome  CoapplicantIncome  LoanAmount  Loan_Amount_Term  \\\n",
       "count       614.000000         614.000000  592.000000         600.00000   \n",
       "mean       5403.459283        1621.245798  146.412162         342.00000   \n",
       "std        6109.041673        2926.248369   85.587325          65.12041   \n",
       "min         150.000000           0.000000    9.000000          12.00000   \n",
       "25%        2877.500000           0.000000  100.000000         360.00000   \n",
       "50%        3812.500000        1188.500000  128.000000         360.00000   \n",
       "75%        5795.000000        2297.250000  168.000000         360.00000   \n",
       "max       81000.000000       41667.000000  700.000000         480.00000   \n",
       "\n",
       "       Credit_History  \n",
       "count      564.000000  \n",
       "mean         0.842199  \n",
       "std          0.364878  \n",
       "min          0.000000  \n",
       "25%          1.000000  \n",
       "50%          1.000000  \n",
       "75%          1.000000  \n",
       "max          1.000000  "
      ]
     },
     "execution_count": 8,
     "metadata": {},
     "output_type": "execute_result"
    }
   ],
   "source": [
    "train_df.describe()"
   ]
  },
  {
   "cell_type": "code",
   "execution_count": 9,
   "id": "8989b0a8",
   "metadata": {},
   "outputs": [
    {
     "data": {
      "text/plain": [
       "Loan_ID               0\n",
       "Gender               13\n",
       "Married               3\n",
       "Dependents           15\n",
       "Education             0\n",
       "Self_Employed        32\n",
       "ApplicantIncome       0\n",
       "CoapplicantIncome     0\n",
       "LoanAmount           22\n",
       "Loan_Amount_Term     14\n",
       "Credit_History       50\n",
       "Property_Area         0\n",
       "Loan_Status           0\n",
       "dtype: int64"
      ]
     },
     "execution_count": 9,
     "metadata": {},
     "output_type": "execute_result"
    }
   ],
   "source": [
    "train_df.isnull().sum()"
   ]
  },
  {
   "cell_type": "code",
   "execution_count": 10,
   "id": "dba91c4e",
   "metadata": {},
   "outputs": [
    {
     "data": {
      "text/html": [
       "<div>\n",
       "<style scoped>\n",
       "    .dataframe tbody tr th:only-of-type {\n",
       "        vertical-align: middle;\n",
       "    }\n",
       "\n",
       "    .dataframe tbody tr th {\n",
       "        vertical-align: top;\n",
       "    }\n",
       "\n",
       "    .dataframe thead th {\n",
       "        text-align: right;\n",
       "    }\n",
       "</style>\n",
       "<table border=\"1\" class=\"dataframe\">\n",
       "  <thead>\n",
       "    <tr style=\"text-align: right;\">\n",
       "      <th></th>\n",
       "      <th>Loan_ID</th>\n",
       "      <th>Gender</th>\n",
       "      <th>Married</th>\n",
       "      <th>Dependents</th>\n",
       "      <th>Education</th>\n",
       "      <th>Self_Employed</th>\n",
       "      <th>ApplicantIncome</th>\n",
       "      <th>CoapplicantIncome</th>\n",
       "      <th>LoanAmount</th>\n",
       "      <th>Loan_Amount_Term</th>\n",
       "      <th>Credit_History</th>\n",
       "      <th>Property_Area</th>\n",
       "    </tr>\n",
       "  </thead>\n",
       "  <tbody>\n",
       "    <tr>\n",
       "      <th>0</th>\n",
       "      <td>LP001015</td>\n",
       "      <td>Male</td>\n",
       "      <td>Yes</td>\n",
       "      <td>0</td>\n",
       "      <td>Graduate</td>\n",
       "      <td>No</td>\n",
       "      <td>5720</td>\n",
       "      <td>0</td>\n",
       "      <td>110.0</td>\n",
       "      <td>360.0</td>\n",
       "      <td>1.0</td>\n",
       "      <td>Urban</td>\n",
       "    </tr>\n",
       "    <tr>\n",
       "      <th>1</th>\n",
       "      <td>LP001022</td>\n",
       "      <td>Male</td>\n",
       "      <td>Yes</td>\n",
       "      <td>1</td>\n",
       "      <td>Graduate</td>\n",
       "      <td>No</td>\n",
       "      <td>3076</td>\n",
       "      <td>1500</td>\n",
       "      <td>126.0</td>\n",
       "      <td>360.0</td>\n",
       "      <td>1.0</td>\n",
       "      <td>Urban</td>\n",
       "    </tr>\n",
       "    <tr>\n",
       "      <th>2</th>\n",
       "      <td>LP001031</td>\n",
       "      <td>Male</td>\n",
       "      <td>Yes</td>\n",
       "      <td>2</td>\n",
       "      <td>Graduate</td>\n",
       "      <td>No</td>\n",
       "      <td>5000</td>\n",
       "      <td>1800</td>\n",
       "      <td>208.0</td>\n",
       "      <td>360.0</td>\n",
       "      <td>1.0</td>\n",
       "      <td>Urban</td>\n",
       "    </tr>\n",
       "    <tr>\n",
       "      <th>3</th>\n",
       "      <td>LP001035</td>\n",
       "      <td>Male</td>\n",
       "      <td>Yes</td>\n",
       "      <td>2</td>\n",
       "      <td>Graduate</td>\n",
       "      <td>No</td>\n",
       "      <td>2340</td>\n",
       "      <td>2546</td>\n",
       "      <td>100.0</td>\n",
       "      <td>360.0</td>\n",
       "      <td>NaN</td>\n",
       "      <td>Urban</td>\n",
       "    </tr>\n",
       "    <tr>\n",
       "      <th>4</th>\n",
       "      <td>LP001051</td>\n",
       "      <td>Male</td>\n",
       "      <td>No</td>\n",
       "      <td>0</td>\n",
       "      <td>Not Graduate</td>\n",
       "      <td>No</td>\n",
       "      <td>3276</td>\n",
       "      <td>0</td>\n",
       "      <td>78.0</td>\n",
       "      <td>360.0</td>\n",
       "      <td>1.0</td>\n",
       "      <td>Urban</td>\n",
       "    </tr>\n",
       "  </tbody>\n",
       "</table>\n",
       "</div>"
      ],
      "text/plain": [
       "    Loan_ID Gender Married Dependents     Education Self_Employed  \\\n",
       "0  LP001015   Male     Yes          0      Graduate            No   \n",
       "1  LP001022   Male     Yes          1      Graduate            No   \n",
       "2  LP001031   Male     Yes          2      Graduate            No   \n",
       "3  LP001035   Male     Yes          2      Graduate            No   \n",
       "4  LP001051   Male      No          0  Not Graduate            No   \n",
       "\n",
       "   ApplicantIncome  CoapplicantIncome  LoanAmount  Loan_Amount_Term  \\\n",
       "0             5720                  0       110.0             360.0   \n",
       "1             3076               1500       126.0             360.0   \n",
       "2             5000               1800       208.0             360.0   \n",
       "3             2340               2546       100.0             360.0   \n",
       "4             3276                  0        78.0             360.0   \n",
       "\n",
       "   Credit_History Property_Area  \n",
       "0             1.0         Urban  \n",
       "1             1.0         Urban  \n",
       "2             1.0         Urban  \n",
       "3             NaN         Urban  \n",
       "4             1.0         Urban  "
      ]
     },
     "execution_count": 10,
     "metadata": {},
     "output_type": "execute_result"
    }
   ],
   "source": [
    "test_df.head()"
   ]
  },
  {
   "cell_type": "code",
   "execution_count": 11,
   "id": "2fd5dd48",
   "metadata": {},
   "outputs": [
    {
     "data": {
      "text/plain": [
       "(367, 12)"
      ]
     },
     "execution_count": 11,
     "metadata": {},
     "output_type": "execute_result"
    }
   ],
   "source": [
    "test_df.shape"
   ]
  },
  {
   "cell_type": "code",
   "execution_count": 12,
   "id": "a40b8098",
   "metadata": {},
   "outputs": [
    {
     "name": "stdout",
     "output_type": "stream",
     "text": [
      "<class 'pandas.core.frame.DataFrame'>\n",
      "RangeIndex: 367 entries, 0 to 366\n",
      "Data columns (total 12 columns):\n",
      " #   Column             Non-Null Count  Dtype  \n",
      "---  ------             --------------  -----  \n",
      " 0   Loan_ID            367 non-null    object \n",
      " 1   Gender             356 non-null    object \n",
      " 2   Married            367 non-null    object \n",
      " 3   Dependents         357 non-null    object \n",
      " 4   Education          367 non-null    object \n",
      " 5   Self_Employed      344 non-null    object \n",
      " 6   ApplicantIncome    367 non-null    int64  \n",
      " 7   CoapplicantIncome  367 non-null    int64  \n",
      " 8   LoanAmount         362 non-null    float64\n",
      " 9   Loan_Amount_Term   361 non-null    float64\n",
      " 10  Credit_History     338 non-null    float64\n",
      " 11  Property_Area      367 non-null    object \n",
      "dtypes: float64(3), int64(2), object(7)\n",
      "memory usage: 34.5+ KB\n"
     ]
    }
   ],
   "source": [
    "test_df.info()"
   ]
  },
  {
   "cell_type": "markdown",
   "id": "8559235f",
   "metadata": {},
   "source": [
    "> Both the training and testing datasets are not completely clean. We will need to perform data cleaning and preprocessing before building your model.\n"
   ]
  },
  {
   "cell_type": "markdown",
   "id": "d8429ca8",
   "metadata": {},
   "source": [
    "## Exploratory Data Analysis (EDA)"
   ]
  },
  {
   "cell_type": "markdown",
   "id": "c48110af",
   "metadata": {},
   "source": [
    "#### Count plot of Education vs Loan_Status"
   ]
  },
  {
   "cell_type": "code",
   "execution_count": 13,
   "id": "55a67bc6",
   "metadata": {},
   "outputs": [
    {
     "data": {
      "image/png": "[encoded data removed]",
      "text/plain": [
       "<Figure size 600x400 with 1 Axes>"
      ]
     },
     "metadata": {},
     "output_type": "display_data"
    }
   ],
   "source": [
    "plt.figure(figsize=(6, 4))\n",
    "sns.countplot(x='Education', hue='Loan_Status', data=train_df, palette='Set2')\n",
    "\n",
    "plt.title('Loan Status by Education Level')\n",
    "plt.xlabel('Education')\n",
    "plt.ylabel('Number of Applicants')\n",
    "plt.legend(title='Loan Status')\n",
    "plt.tight_layout()\n",
    "plt.show()\n"
   ]
  },
  {
   "cell_type": "markdown",
   "id": "e723db12",
   "metadata": {},
   "source": [
    "#### Plot histogram of LoanAmount"
   ]
  },
  {
   "cell_type": "code",
   "execution_count": 14,
   "id": "68329ed4",
   "metadata": {},
   "outputs": [
    {
     "data": {
      "image/png": "[encoded data removed]",
      "text/plain": [
       "<Figure size 1200x400 with 1 Axes>"
      ]
     },
     "metadata": {},
     "output_type": "display_data"
    }
   ],
   "source": [
    "plt.figure(figsize=(12, 4))\n",
    "sns.histplot(train_df['LoanAmount'].dropna(), bins=30, kde=True, color='red')\n",
    "plt.title('Distribution of Loan Amount', fontsize=14)\n",
    "plt.xlabel('Loan Amount', fontsize=12)\n",
    "plt.ylabel('Number of Applicants', fontsize=12)\n",
    "plt.tight_layout()\n",
    "plt.show()\n"
   ]
  },
  {
   "cell_type": "markdown",
   "id": "1073ad1e",
   "metadata": {},
   "source": [
    "#### Plot the distribution of Applicant Income"
   ]
  },
  {
   "cell_type": "code",
   "execution_count": 15,
   "id": "cb1e61ad",
   "metadata": {},
   "outputs": [
    {
     "data": {
      "image/png": "[encoded data removed]",
      "text/plain": [
       "<Figure size 1000x400 with 1 Axes>"
      ]
     },
     "metadata": {},
     "output_type": "display_data"
    }
   ],
   "source": [
    "plt.figure(figsize=(10, 4))\n",
    "sns.histplot(train_df['ApplicantIncome'], kde=True)\n",
    "plt.title('Distribution of Applicant Income')\n",
    "plt.xlabel('Applicant Income')\n",
    "plt.ylabel('Frequency')\n",
    "plt.tight_layout()\n",
    "plt.show()\n"
   ]
  },
  {
   "cell_type": "markdown",
   "id": "474d7389",
   "metadata": {},
   "source": [
    "#### Scatter plot of Applicant Income vs Loan Amount"
   ]
  },
  {
   "cell_type": "code",
   "execution_count": 16,
   "id": "f82cfb17",
   "metadata": {},
   "outputs": [
    {
     "data": {
      "image/png": "[encoded data removed]",
      "text/plain": [
       "<Figure size 1000x400 with 1 Axes>"
      ]
     },
     "metadata": {},
     "output_type": "display_data"
    }
   ],
   "source": [
    "plt.figure(figsize=(10, 4))\n",
    "sns.scatterplot(x='ApplicantIncome', y='LoanAmount', data=train_df, color='green')\n",
    "plt.title('Applicant Income vs Loan Amount')\n",
    "plt.xlabel('Applicant Income')\n",
    "plt.ylabel('Loan Amount')\n",
    "plt.tight_layout()\n",
    "plt.show()\n"
   ]
  },
  {
   "cell_type": "markdown",
   "id": "5e85ead9",
   "metadata": {},
   "source": [
    "#### Loan Status Distribution"
   ]
  },
  {
   "cell_type": "code",
   "execution_count": 17,
   "id": "1104fd82",
   "metadata": {},
   "outputs": [
    {
     "name": "stderr",
     "output_type": "stream",
     "text": [
      "C:\\Users\\Sami\\AppData\\Local\\Temp\\ipykernel_5192\\245345623.py:6: FutureWarning: \n",
      "\n",
      "Passing `palette` without assigning `hue` is deprecated and will be removed in v0.14.0. Assign the `x` variable to `hue` and set `legend=False` for the same effect.\n",
      "\n",
      "  barplot = sns.barplot(x=labels, y=counts, palette='pastel')\n"
     ]
    },
    {
     "data": {
      "image/png": "[encoded data removed]",
      "text/plain": [
       "<Figure size 600x400 with 1 Axes>"
      ]
     },
     "metadata": {},
     "output_type": "display_data"
    }
   ],
   "source": [
    "loan_counts = train_df['Loan_Status'].value_counts()\n",
    "labels = loan_counts.index\n",
    "counts = loan_counts.values\n",
    "percentages = (counts / counts.sum() * 100).round(2)\n",
    "plt.figure(figsize=(6, 4))\n",
    "barplot = sns.barplot(x=labels, y=counts, palette='pastel')\n",
    "for i in range(len(counts)):\n",
    "    plt.text(i, counts[i] + 5, f\"{percentages[i]}%\", ha='center', fontsize=11)\n",
    "\n",
    "plt.title('Loan Status Distribution')\n",
    "plt.xlabel('Loan Status (Y/N)')\n",
    "plt.ylabel('Number of Applicants')\n",
    "plt.tight_layout()\n",
    "plt.show()\n"
   ]
  },
  {
   "cell_type": "markdown",
   "id": "546a0462",
   "metadata": {},
   "source": [
    "#### Box plot to compare Income by Loan_Status"
   ]
  },
  {
   "cell_type": "code",
   "execution_count": 18,
   "id": "1afe495d",
   "metadata": {},
   "outputs": [
    {
     "name": "stderr",
     "output_type": "stream",
     "text": [
      "C:\\Users\\Sami\\AppData\\Local\\Temp\\ipykernel_5192\\3351096706.py:2: FutureWarning: \n",
      "\n",
      "Passing `palette` without assigning `hue` is deprecated and will be removed in v0.14.0. Assign the `y` variable to `hue` and set `legend=False` for the same effect.\n",
      "\n",
      "  sns.boxplot(y='Loan_Status', x='ApplicantIncome', data=train_df, palette='coolwarm')\n"
     ]
    },
    {
     "data": {
      "image/png": "[encoded data removed]",
      "text/plain": [
       "<Figure size 1200x400 with 1 Axes>"
      ]
     },
     "metadata": {},
     "output_type": "display_data"
    }
   ],
   "source": [
    "plt.figure(figsize=(12, 4))\n",
    "sns.boxplot(y='Loan_Status', x='ApplicantIncome', data=train_df, palette='coolwarm')\n",
    "plt.title('Income Distribution by Loan Status')\n",
    "plt.ylabel('Loan Status')\n",
    "plt.xlabel('Applicant Income')\n",
    "plt.tight_layout()\n",
    "plt.show()\n"
   ]
  },
  {
   "cell_type": "markdown",
   "id": "d6e406fc",
   "metadata": {},
   "source": [
    "#### Null Value Summary and Visualization"
   ]
  },
  {
   "cell_type": "code",
   "execution_count": 19,
   "id": "712b109d",
   "metadata": {},
   "outputs": [
    {
     "name": "stderr",
     "output_type": "stream",
     "text": [
      "C:\\Users\\Sami\\AppData\\Local\\Temp\\ipykernel_5192\\1385322741.py:5: FutureWarning: \n",
      "\n",
      "Passing `palette` without assigning `hue` is deprecated and will be removed in v0.14.0. Assign the `y` variable to `hue` and set `legend=False` for the same effect.\n",
      "\n",
      "  sns.barplot(x=null_counts.values, y=null_counts.index, palette='coolwarm')\n"
     ]
    },
    {
     "data": {
      "image/png": "[encoded data removed]",
      "text/plain": [
       "<Figure size 800x500 with 1 Axes>"
      ]
     },
     "metadata": {},
     "output_type": "display_data"
    }
   ],
   "source": [
    "# Calculate null counts\n",
    "null_counts = train_df.isnull().sum()\n",
    "null_counts = null_counts[null_counts > 0].sort_values(ascending=False)\n",
    "plt.figure(figsize=(8, 5))\n",
    "sns.barplot(x=null_counts.values, y=null_counts.index, palette='coolwarm')\n",
    "for i, val in enumerate(null_counts.values):\n",
    "    plt.text(val + 0.5, i, f\"{val}\", va='center')\n",
    "\n",
    "# Titles and labels\n",
    "plt.title('Missing Values in Columns')\n",
    "plt.xlabel('Number of Missing Values')\n",
    "plt.ylabel('Columns')\n",
    "plt.tight_layout()\n",
    "plt.show()\n"
   ]
  },
  {
   "cell_type": "markdown",
   "id": "514c3f1b",
   "metadata": {},
   "source": [
    "## Data cleaning and preparation"
   ]
  },
  {
   "cell_type": "markdown",
   "id": "340e0b13",
   "metadata": {},
   "source": [
    "#### Handling Missing Values"
   ]
  },
  {
   "cell_type": "code",
   "execution_count": 20,
   "id": "8fccefbc",
   "metadata": {},
   "outputs": [
    {
     "data": {
      "text/plain": [
       "Loan_ID               0\n",
       "Gender               13\n",
       "Married               3\n",
       "Dependents           15\n",
       "Education             0\n",
       "Self_Employed        32\n",
       "ApplicantIncome       0\n",
       "CoapplicantIncome     0\n",
       "LoanAmount           22\n",
       "Loan_Amount_Term     14\n",
       "Credit_History       50\n",
       "Property_Area         0\n",
       "Loan_Status           0\n",
       "dtype: int64"
      ]
     },
     "execution_count": 20,
     "metadata": {},
     "output_type": "execute_result"
    }
   ],
   "source": [
    "train_df.isnull().sum()"
   ]
  },
  {
   "cell_type": "code",
   "execution_count": 21,
   "id": "4330ffba",
   "metadata": {},
   "outputs": [],
   "source": [
    "def impute_with_random_forest(df):\n",
    "    df_imputed = df.copy()\n",
    "    categorical_cols = df.select_dtypes(include=['object', 'category']).columns\n",
    "    numerical_cols = df.select_dtypes(include=['number']).columns\n",
    "\n",
    "    print(\"Starting imputation...\\n\")\n",
    "\n",
    "    for col in df.columns:\n",
    "        if df[col].isnull().sum() == 0:\n",
    "            continue  # Skip columns with no missing values\n",
    "\n",
    "        print(f\"🔍 Imputing column: '{col}'\")\n",
    "\n",
    "        # Better categorical detection: also check low unique int values\n",
    "        is_categorical = (\n",
    "            col in categorical_cols or \n",
    "            (df[col].dtype in ['int64', 'int32'] and df[col].nunique() < 10)\n",
    "        )\n",
    "\n",
    "        not_null_data = df[df[col].notnull()]\n",
    "        null_data = df[df[col].isnull()]\n",
    "\n",
    "        features = df.columns.drop(col)\n",
    "        X = not_null_data[features]\n",
    "        y = not_null_data[col]\n",
    "        X_null = null_data[features]\n",
    "\n",
    "        if len(X) == 0 or len(X_null) == 0:\n",
    "            print(f\"⚠️ Skipped '{col}' due to insufficient data.\")\n",
    "            continue\n",
    "\n",
    "        # Encode features\n",
    "        X_all = pd.concat([X, X_null])\n",
    "        X_all_encoded = pd.get_dummies(X_all, drop_first=True)\n",
    "        imputer = SimpleImputer(strategy=\"most_frequent\")\n",
    "        X_all_imputed = imputer.fit_transform(X_all_encoded)\n",
    "        X_all_imputed = pd.DataFrame(X_all_imputed, columns=X_all_encoded.columns, index=X_all.index)\n",
    "\n",
    "        X_train = X_all_imputed.loc[X.index]\n",
    "        X_null_imputed = X_all_imputed.loc[X_null.index]\n",
    "\n",
    "        # Handle label encoding for categorical target\n",
    "        if is_categorical:\n",
    "            label_encoder = LabelEncoder()\n",
    "            y_encoded = label_encoder.fit_transform(y)\n",
    "            model = RandomForestClassifier(random_state=42)\n",
    "        else:\n",
    "            y_encoded = y\n",
    "            model = RandomForestRegressor(random_state=42)\n",
    "\n",
    "        # Train and evaluate\n",
    "        X_t, X_v, y_t, y_v = train_test_split(X_train, y_encoded, test_size=0.2, random_state=42)\n",
    "        model.fit(X_t, y_t)\n",
    "        y_pred = model.predict(X_v)\n",
    "\n",
    "        # Evaluate\n",
    "        if is_categorical:\n",
    "            acc = accuracy_score(y_v, y_pred)\n",
    "            print(f\"✅ Accuracy for '{col}': {acc:.2f}\")\n",
    "            imputed_values = label_encoder.inverse_transform(model.predict(X_null_imputed).astype(int))\n",
    "        else:\n",
    "            rmse = np.sqrt(mean_squared_error(y_v, y_pred))\n",
    "            print(f\"✅ RMSE for '{col}': {rmse:.2f}\")\n",
    "            imputed_values = model.predict(X_null_imputed)\n",
    "\n",
    "        # Impute missing values\n",
    "        df_imputed.loc[X_null.index, col] = imputed_values\n",
    "\n",
    "    return df_imputed\n"
   ]
  },
  {
   "cell_type": "code",
   "execution_count": 22,
   "id": "25ea8385",
   "metadata": {},
   "outputs": [
    {
     "name": "stdout",
     "output_type": "stream",
     "text": [
      "Starting imputation...\n",
      "\n",
      "🔍 Imputing column: 'Gender'\n",
      "✅ Accuracy for 'Gender': 0.81\n",
      "🔍 Imputing column: 'Married'\n",
      "✅ Accuracy for 'Married': 0.77\n",
      "🔍 Imputing column: 'Dependents'\n",
      "✅ Accuracy for 'Dependents': 0.48\n",
      "🔍 Imputing column: 'Self_Employed'\n",
      "✅ Accuracy for 'Self_Employed': 0.88\n",
      "🔍 Imputing column: 'LoanAmount'\n",
      "✅ RMSE for 'LoanAmount': 58.25\n",
      "🔍 Imputing column: 'Loan_Amount_Term'\n",
      "✅ RMSE for 'Loan_Amount_Term': 60.94\n",
      "🔍 Imputing column: 'Credit_History'\n",
      "✅ RMSE for 'Credit_History': 0.35\n"
     ]
    }
   ],
   "source": [
    "train_df=impute_with_random_forest(train_df)"
   ]
  },
  {
   "cell_type": "code",
   "execution_count": 23,
   "id": "b1d903c2",
   "metadata": {},
   "outputs": [
    {
     "data": {
      "text/html": [
       "<div>\n",
       "<style scoped>\n",
       "    .dataframe tbody tr th:only-of-type {\n",
       "        vertical-align: middle;\n",
       "    }\n",
       "\n",
       "    .dataframe tbody tr th {\n",
       "        vertical-align: top;\n",
       "    }\n",
       "\n",
       "    .dataframe thead th {\n",
       "        text-align: right;\n",
       "    }\n",
       "</style>\n",
       "<table border=\"1\" class=\"dataframe\">\n",
       "  <thead>\n",
       "    <tr style=\"text-align: right;\">\n",
       "      <th></th>\n",
       "      <th>Loan_ID</th>\n",
       "      <th>Gender</th>\n",
       "      <th>Married</th>\n",
       "      <th>Dependents</th>\n",
       "      <th>Education</th>\n",
       "      <th>Self_Employed</th>\n",
       "      <th>ApplicantIncome</th>\n",
       "      <th>CoapplicantIncome</th>\n",
       "      <th>LoanAmount</th>\n",
       "      <th>Loan_Amount_Term</th>\n",
       "      <th>Credit_History</th>\n",
       "      <th>Property_Area</th>\n",
       "      <th>Loan_Status</th>\n",
       "    </tr>\n",
       "  </thead>\n",
       "  <tbody>\n",
       "    <tr>\n",
       "      <th>0</th>\n",
       "      <td>LP001002</td>\n",
       "      <td>Male</td>\n",
       "      <td>No</td>\n",
       "      <td>0</td>\n",
       "      <td>Graduate</td>\n",
       "      <td>No</td>\n",
       "      <td>5849</td>\n",
       "      <td>0.0</td>\n",
       "      <td>145.34</td>\n",
       "      <td>360.0</td>\n",
       "      <td>1.0</td>\n",
       "      <td>Urban</td>\n",
       "      <td>Y</td>\n",
       "    </tr>\n",
       "    <tr>\n",
       "      <th>1</th>\n",
       "      <td>LP001003</td>\n",
       "      <td>Male</td>\n",
       "      <td>Yes</td>\n",
       "      <td>1</td>\n",
       "      <td>Graduate</td>\n",
       "      <td>No</td>\n",
       "      <td>4583</td>\n",
       "      <td>1508.0</td>\n",
       "      <td>128.00</td>\n",
       "      <td>360.0</td>\n",
       "      <td>1.0</td>\n",
       "      <td>Rural</td>\n",
       "      <td>N</td>\n",
       "    </tr>\n",
       "    <tr>\n",
       "      <th>2</th>\n",
       "      <td>LP001005</td>\n",
       "      <td>Male</td>\n",
       "      <td>Yes</td>\n",
       "      <td>0</td>\n",
       "      <td>Graduate</td>\n",
       "      <td>Yes</td>\n",
       "      <td>3000</td>\n",
       "      <td>0.0</td>\n",
       "      <td>66.00</td>\n",
       "      <td>360.0</td>\n",
       "      <td>1.0</td>\n",
       "      <td>Urban</td>\n",
       "      <td>Y</td>\n",
       "    </tr>\n",
       "    <tr>\n",
       "      <th>3</th>\n",
       "      <td>LP001006</td>\n",
       "      <td>Male</td>\n",
       "      <td>Yes</td>\n",
       "      <td>0</td>\n",
       "      <td>Not Graduate</td>\n",
       "      <td>No</td>\n",
       "      <td>2583</td>\n",
       "      <td>2358.0</td>\n",
       "      <td>120.00</td>\n",
       "      <td>360.0</td>\n",
       "      <td>1.0</td>\n",
       "      <td>Urban</td>\n",
       "      <td>Y</td>\n",
       "    </tr>\n",
       "    <tr>\n",
       "      <th>4</th>\n",
       "      <td>LP001008</td>\n",
       "      <td>Male</td>\n",
       "      <td>No</td>\n",
       "      <td>0</td>\n",
       "      <td>Graduate</td>\n",
       "      <td>No</td>\n",
       "      <td>6000</td>\n",
       "      <td>0.0</td>\n",
       "      <td>141.00</td>\n",
       "      <td>360.0</td>\n",
       "      <td>1.0</td>\n",
       "      <td>Urban</td>\n",
       "      <td>Y</td>\n",
       "    </tr>\n",
       "  </tbody>\n",
       "</table>\n",
       "</div>"
      ],
      "text/plain": [
       "    Loan_ID Gender Married Dependents     Education Self_Employed  \\\n",
       "0  LP001002   Male      No          0      Graduate            No   \n",
       "1  LP001003   Male     Yes          1      Graduate            No   \n",
       "2  LP001005   Male     Yes          0      Graduate           Yes   \n",
       "3  LP001006   Male     Yes          0  Not Graduate            No   \n",
       "4  LP001008   Male      No          0      Graduate            No   \n",
       "\n",
       "   ApplicantIncome  CoapplicantIncome  LoanAmount  Loan_Amount_Term  \\\n",
       "0             5849                0.0      145.34             360.0   \n",
       "1             4583             1508.0      128.00             360.0   \n",
       "2             3000                0.0       66.00             360.0   \n",
       "3             2583             2358.0      120.00             360.0   \n",
       "4             6000                0.0      141.00             360.0   \n",
       "\n",
       "   Credit_History Property_Area Loan_Status  \n",
       "0             1.0         Urban           Y  \n",
       "1             1.0         Rural           N  \n",
       "2             1.0         Urban           Y  \n",
       "3             1.0         Urban           Y  \n",
       "4             1.0         Urban           Y  "
      ]
     },
     "execution_count": 23,
     "metadata": {},
     "output_type": "execute_result"
    }
   ],
   "source": [
    "train_df.head()"
   ]
  },
  {
   "cell_type": "code",
   "execution_count": 24,
   "id": "c0313440",
   "metadata": {},
   "outputs": [
    {
     "name": "stdout",
     "output_type": "stream",
     "text": [
      "<class 'pandas.core.frame.DataFrame'>\n",
      "RangeIndex: 614 entries, 0 to 613\n",
      "Data columns (total 13 columns):\n",
      " #   Column             Non-Null Count  Dtype  \n",
      "---  ------             --------------  -----  \n",
      " 0   Loan_ID            614 non-null    object \n",
      " 1   Gender             614 non-null    object \n",
      " 2   Married            614 non-null    object \n",
      " 3   Dependents         614 non-null    object \n",
      " 4   Education          614 non-null    object \n",
      " 5   Self_Employed      614 non-null    object \n",
      " 6   ApplicantIncome    614 non-null    int64  \n",
      " 7   CoapplicantIncome  614 non-null    float64\n",
      " 8   LoanAmount         614 non-null    float64\n",
      " 9   Loan_Amount_Term   614 non-null    float64\n",
      " 10  Credit_History     614 non-null    float64\n",
      " 11  Property_Area      614 non-null    object \n",
      " 12  Loan_Status        614 non-null    object \n",
      "dtypes: float64(4), int64(1), object(8)\n",
      "memory usage: 62.5+ KB\n"
     ]
    }
   ],
   "source": [
    "train_df.info()"
   ]
  },
  {
   "cell_type": "code",
   "execution_count": 25,
   "id": "bf2dafe2",
   "metadata": {},
   "outputs": [
    {
     "data": {
      "text/plain": [
       "Loan_ID               0\n",
       "Gender               11\n",
       "Married               0\n",
       "Dependents           10\n",
       "Education             0\n",
       "Self_Employed        23\n",
       "ApplicantIncome       0\n",
       "CoapplicantIncome     0\n",
       "LoanAmount            5\n",
       "Loan_Amount_Term      6\n",
       "Credit_History       29\n",
       "Property_Area         0\n",
       "dtype: int64"
      ]
     },
     "execution_count": 25,
     "metadata": {},
     "output_type": "execute_result"
    }
   ],
   "source": [
    "test_df.isnull().sum()"
   ]
  },
  {
   "cell_type": "code",
   "execution_count": 26,
   "id": "76d9d0f6",
   "metadata": {},
   "outputs": [
    {
     "name": "stdout",
     "output_type": "stream",
     "text": [
      "Starting imputation...\n",
      "\n",
      "🔍 Imputing column: 'Gender'\n",
      "✅ Accuracy for 'Gender': 0.89\n",
      "🔍 Imputing column: 'Dependents'\n",
      "✅ Accuracy for 'Dependents': 0.51\n",
      "🔍 Imputing column: 'Self_Employed'\n",
      "✅ Accuracy for 'Self_Employed': 0.83\n",
      "🔍 Imputing column: 'LoanAmount'\n",
      "✅ RMSE for 'LoanAmount': 53.52\n",
      "🔍 Imputing column: 'Loan_Amount_Term'\n",
      "✅ RMSE for 'Loan_Amount_Term': 55.47\n",
      "🔍 Imputing column: 'Credit_History'\n",
      "✅ RMSE for 'Credit_History': 0.38\n"
     ]
    }
   ],
   "source": [
    "test_df=impute_with_random_forest(test_df)"
   ]
  },
  {
   "cell_type": "code",
   "execution_count": 27,
   "id": "c37de269",
   "metadata": {},
   "outputs": [
    {
     "data": {
      "text/plain": [
       "(367, 12)"
      ]
     },
     "execution_count": 27,
     "metadata": {},
     "output_type": "execute_result"
    }
   ],
   "source": [
    "test_df.shape"
   ]
  },
  {
   "cell_type": "markdown",
   "id": "eccfc759",
   "metadata": {},
   "source": [
    "#### Encode the Categorial Features"
   ]
  },
  {
   "cell_type": "code",
   "execution_count": 28,
   "id": "b17143d6",
   "metadata": {},
   "outputs": [],
   "source": [
    "le=LabelEncoder()\n",
    "for col in train_df.columns:\n",
    "    if train_df[col].dtype == 'object' or train_df[col].dtype.name == 'category':\n",
    "        train_df[col] = le.fit_transform(train_df[col])\n"
   ]
  },
  {
   "cell_type": "code",
   "execution_count": 29,
   "id": "e9d5d7cb",
   "metadata": {},
   "outputs": [],
   "source": [
    "le=LabelEncoder()\n",
    "for col in test_df.columns:\n",
    "    if test_df[col].dtype == 'object' or test_df[col].dtype.name == 'category':\n",
    "        test_df[col] = le.fit_transform(test_df[col])\n"
   ]
  },
  {
   "cell_type": "markdown",
   "id": "78874267",
   "metadata": {},
   "source": [
    "## Selecting the Important Features"
   ]
  },
  {
   "cell_type": "code",
   "execution_count": 30,
   "id": "5e0f9da5",
   "metadata": {},
   "outputs": [
    {
     "name": "stdout",
     "output_type": "stream",
     "text": [
      "✅ Selected features with score > 1:\n",
      "\n",
      "          Feature        Score\n",
      "CoapplicantIncome 11342.041603\n",
      "  ApplicantIncome    93.904964\n",
      "       LoanAmount    40.686070\n",
      "   Credit_History    29.599615\n",
      "          Loan_ID     8.723627\n",
      " Loan_Amount_Term     3.766296\n",
      "        Education     3.540502\n",
      "          Married     1.615137\n"
     ]
    }
   ],
   "source": [
    "# Step 1: Split features and target\n",
    "X = train_df.drop('Loan_Status', axis=1)\n",
    "y = train_df['Loan_Status']\n",
    "\n",
    "# Step 2: Apply SelectKBest with chi-squared test\n",
    "selector = SelectKBest(score_func=chi2, k='all')\n",
    "selector.fit(X, y)\n",
    "\n",
    "# Step 3: Store feature names and scores\n",
    "scores_df = pd.DataFrame({\n",
    "    'Feature': X.columns,\n",
    "    'Score': selector.scores_\n",
    "})\n",
    "\n",
    "# Step 4: Keep only features with score > 1 and sort by Score\n",
    "selected_features = scores_df[scores_df['Score'] > 1].sort_values(by='Score', ascending=False)\n",
    "\n",
    "# Step 5: Show the result without index\n",
    "print(\"✅ Selected features with score > 1:\\n\")\n",
    "print(selected_features.to_string(index=False))\n",
    "\n",
    "# Step 6: Save the selected feature names in a list (optional)\n",
    "features = selected_features['Feature'].tolist()\n"
   ]
  },
  {
   "cell_type": "markdown",
   "id": "58bf9a0d",
   "metadata": {},
   "source": [
    "## Split the data into training and testing sets"
   ]
  },
  {
   "cell_type": "code",
   "execution_count": 31,
   "id": "97c8e453",
   "metadata": {},
   "outputs": [],
   "source": [
    "# Feature and target selection from training data\n",
    "X = train_df[features]            \n",
    "y = train_df['Loan_Status']     \n",
    "\n",
    "# plit the training data into training and testing sets for evaluation\n",
    "X_train, X_test, y_train, y_test = train_test_split(X, y, test_size=0.2, random_state=42)\n",
    "\n",
    "# ⚠️ Note: test_data below is only used for final prediction (NOT for model evaluation)\n",
    "test_data = test_df[features]  # This is unlabeled data (e.g., for Kaggle submission)\n"
   ]
  },
  {
   "cell_type": "markdown",
   "id": "742b9ca1",
   "metadata": {},
   "source": [
    "## Building the Model"
   ]
  },
  {
   "cell_type": "code",
   "execution_count": 32,
   "id": "8c918211",
   "metadata": {},
   "outputs": [
    {
     "name": "stdout",
     "output_type": "stream",
     "text": [
      "Accuracy: 0.8130081300813008\n",
      "Confusion Matrix:\n",
      "[[22 21]\n",
      " [ 2 78]]\n"
     ]
    },
    {
     "data": {
      "image/png": "[encoded data removed]",
      "text/plain": [
       "<Figure size 500x400 with 1 Axes>"
      ]
     },
     "metadata": {},
     "output_type": "display_data"
    }
   ],
   "source": [
    "model = RandomForestClassifier(random_state=42)\n",
    "model.fit(X_train, y_train)\n",
    "\n",
    "y_pred = model.predict(X_test)\n",
    "\n",
    "accuracy = accuracy_score(y_test, y_pred)\n",
    "print(f\"Accuracy: {accuracy}\")\n",
    "\n",
    "cm = confusion_matrix(y_test, y_pred)\n",
    "print(\"Confusion Matrix:\")\n",
    "print(cm)\n",
    "\n",
    "plt.figure(figsize=(5, 4))\n",
    "sns.heatmap(cm, annot=True, fmt=\"d\", cmap=\"Greens\", cbar=False)\n",
    "plt.title(\"Random Forest - Confusion Matrix\")\n",
    "plt.xlabel(\"Predicted\")\n",
    "plt.ylabel(\"Actual\")\n",
    "plt.tight_layout()\n",
    "plt.show()\n"
   ]
  },
  {
   "cell_type": "markdown",
   "id": "63812f96",
   "metadata": {},
   "source": [
    "## Conclusion:\n",
    "\n",
    "In this task, we successfully built and evaluated a classification model to predict whether a loan applicant is likely to default. The following key steps were performed:\n",
    "\n",
    "### 🔍 Key Steps:\n",
    "\n",
    "- ✅ **Exploratory Data Analysis (EDA):**  \n",
    "  Visualized important features such as income, loan amount, education, and loan status to understand data distribution and relationships.\n",
    "\n",
    "- ✅ **Data Preprocessing:**  \n",
    "  Handled missing values, encoded categorical features, and selected the most important variables using the Chi-squared test.\n",
    "\n",
    "- ✅ **Model Training and Evaluation:**  \n",
    "  Trained multiple classification models (Logistic Regression, Decision Tree, Random Forest, SVM, etc.).  \n",
    "  **Random Forest Classifier** achieved the best accuracy and overall performance.\n",
    "\n",
    "- ✅ **Final Model:**  \n",
    "  The Random Forest model was trained on the complete training data and used to make predictions on the unseen test data.\n",
    "\n",
    "---\n",
    "\n",
    "### 📈 Insights:\n",
    "\n",
    "- **Random Forest** showed strong performance due to its ensemble approach and ability to manage both numerical and categorical data.\n",
    "- Features like `Income`, `LoanAmount`, and `Education` had significant influence on the prediction.\n",
    "- Confusion matrix results showed a balanced prediction between defaulters and non-defaulters.\n",
    "\n",
    "---\n",
    "\n"
   ]
  }
 ],
 "metadata": {
  "kernelspec": {
   "display_name": "AI",
   "language": "python",
   "name": "python3"
  },
  "language_info": {
   "codemirror_mode": {
    "name": "ipython",
    "version": 3
   },
   "file_extension": ".py",
   "mimetype": "text/x-python",
   "name": "python",
   "nbconvert_exporter": "python",
   "pygments_lexer": "ipython3",
   "version": "3.11.11"
  }
 },
 "nbformat": 4,
 "nbformat_minor": 5
}
